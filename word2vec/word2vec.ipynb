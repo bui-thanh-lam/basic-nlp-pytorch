{
  "nbformat": 4,
  "nbformat_minor": 0,
  "metadata": {
    "accelerator": "GPU",
    "colab": {
      "name": "word2vec.ipynb",
      "provenance": [],
      "collapsed_sections": [
        "IP2UL0aC6qP_"
      ]
    },
    "kernelspec": {
      "display_name": "Python 3",
      "name": "python3"
    }
  },
  "cells": [
    {
      "cell_type": "markdown",
      "metadata": {
        "id": "IP2UL0aC6qP_"
      },
      "source": [
        "## N-Gram LM\n",
        "*(training from scratch)*"
      ]
    },
    {
      "cell_type": "code",
      "metadata": {
        "id": "-bIpXpTt0P3t"
      },
      "source": [
        "import torch\n",
        "import torch.nn as nn\n",
        "import torch.nn.functional as F\n",
        "import torch.optim as optim"
      ],
      "execution_count": null,
      "outputs": []
    },
    {
      "cell_type": "code",
      "metadata": {
        "id": "SajA4rCl7OvP"
      },
      "source": [
        "CORPUS = \"\"\"\n",
        "\"Tất cả mọi người đều sinh ra có quyền bình đẳng. Tạo hóa cho họ những quyền không ai có thể xâm phạm được; trong những quyền ấy, có quyền được sống, quyền tự do và quyền mưu cầu hạnh phúc\".\n",
        "\n",
        "Lời bất hủ ấy ở trong bản Tuyên ngôn Độc lập năm 1776 của nước Mỹ. Suy rộng ra, câu ấy có ý nghĩa là: tất cả các dân tộc trên thế giới đều sinh ra bình đẳng, dân tộc nào cũng có quyền sống, quyền sung sướng và quyền tự do.\n",
        "\n",
        "Bản Tuyên ngôn Nhân quyền và Dân quyền của Cách mạng Pháp năm 1791 cũng nói: Người ta sinh ra tự do và bình đẳng về quyền lợi; và phải luôn luôn được tự do và bình đẳng về quyền lợi.\n",
        "\n",
        "Đó là những lẽ phải không ai chối cãi được.\n",
        "\n",
        "Thế mà hơn 80 năm nay, bọn thực dân Pháp lợi dụng lá cờ tự do, bình đẳng, bác ái, đến cướp đất nước ta, áp bức đồng bào ta. Hành động của chúng trái hẳn với nhân đạo và chính nghĩa.\n",
        "\n",
        "Về chính trị, chúng tuyệt đối không cho nhân dân ta một chút tự do dân chủ nào.\n",
        "\n",
        "Chúng thi hành những luật pháp dã man. Chúng lập ba chế độ khác nhau ở Trung, Nam, Bắc để ngăn cản việc thống nhất nước nhà của ta, để ngăn cản dân tộc ta đoàn kết.\n",
        "\n",
        "Chúng lập ra nhà tù nhiều hơn trường học. Chúng thẳng tay chém giết những người yêu nước thương nòi của ta. Chúng tắm các cuộc khởi nghĩa của ta trong những bể máu.\n",
        "\n",
        "Chúng ràng buộc dư luận, thi hành chính sách ngu dân.\n",
        "\n",
        "Chúng dùng thuốc phiện, rượu cồn để làm cho nòi giống ta suy nhược.\n",
        "\n",
        "Về kinh tế, chúng bóc lột dân ta đến xương tủy, khiến cho dân ta nghèo nàn, thiếu thốn, nước ta xơ xác, tiêu điều. Chúng cướp không ruộng đất, hầm mỏ, nguyên liệu.\n",
        "\n",
        "Chúng giữ độc quyền in giấy bạc, xuất cảng và nhập cảng.\n",
        "\n",
        "Chúng đặt ra hàng trăm thứ thuế vô lý, làm cho dân ta, nhất là dân cày và dân buôn trở nên bần cùng.\n",
        "\n",
        "Chúng không cho các nhà tư sản ta ngóc đầu lên. Chúng bóc lột công nhân ta một cách vô cùng tàn nhẫn.\n",
        "\n",
        "Mùa thu năm 1940, phát xít Nhật đến xâm lăng Đông Dương để mở thêm căn cứ đánh Đồng Minh, thì bọn thực dân Pháp quỳ gối đầu hàng, mở cửa nước ta rước Nhật. Từ đó dân ta chịu hai tầng xiềng xích: Pháp và Nhật. Từ đó dân ta càng cực khổ, nghèo nàn. Kết quả là cuối năm ngoái sang đầu năm nay, từ Quảng Trị đến Bắc Kỳ, hơn hai triệu đồng bào ta bị chết đói.\n",
        "\n",
        "Ngày 9 tháng 3 năm nay, Nhật tước khí giới của quân đội Pháp. Bọn thực dân Pháp hoặc là bỏ chạy, hoặc là đầu hàng. Thế là chẳng những chúng không \"bảo hộ\" được ta, trái lại, trong 5 năm, chúng đã bán nước ta hai lần cho Nhật.\n",
        "\n",
        "Trước ngày 9 tháng 3, biết bao lần Việt Minh đã kêu gọi người Pháp liên minh để chống Nhật. Bọn thực dân Pháp đã không đáp ứng, lại thẳng tay khủng bố Việt Minh hơn nữa. Thậm chí đến khi thua chạy, chúng còn nhẫn tâm giết nốt số đông tù chính trị ở Yên Bái và Cao Bằng.\n",
        "\n",
        "Tuy vậy, đối với người Pháp, đồng bào ta vẫn giữ một thái độ khoan hồng và nhân đạo. Sau cuộc biến động ngày 9 tháng 3, Việt Minh đã giúp cho nhiều người Pháp chạy qua biên thùy, lại cứu cho nhiều người Pháp ra khỏi nhà giam Nhật và bảo vệ tính mạng và tài sản cho họ.\n",
        "\n",
        "Sự thật là từ mùa thu năm 1940, nước ta đã thành thuộc địa của Nhật, chứ không phải thuộc địa của Pháp nữa. Khi Nhật hàng Đồng minh thì nhân dân cả nước ta đã nổi dậy giành chính quyền, lập nên nước Việt Nam Dân chủ Cộng hòa.\n",
        "\n",
        "Sự thật là dân ta lấy lại nước Việt Nam từ tay Nhật, chứ không phải từ tay Pháp.\n",
        "\n",
        "Pháp chạy, Nhật hàng, vua Bảo Đại thoái vị. Dân ta đã đánh đổ các xiềng xích thực dân gần 100 năm nay để gây dựng nên nước Việt Nam độc lập. Dân ta lại đánh đổ chế độ quân chủ mấy mươi thế kỷ mà lập nên chế độ Dân chủ Cộng hòa.\n",
        "\n",
        "Bởi thế cho nên, chúng tôi, lâm thời Chính phủ của nước Việt Nam mới, đại biểu cho toàn dân Việt Nam, tuyên bố thoát ly hẳn quan hệ với Pháp, xóa bỏ hết những hiệp ước mà Pháp đã ký về nước Việt Nam, xóa bỏ tất cả mọi đặc quyền của Pháp trên đất nước Việt Nam.\n",
        "\n",
        "Toàn dân Việt Nam, trên dưới một lòng kiên quyết chống lại âm mưu của bọn thực dân Pháp.\n",
        "\n",
        "Chúng tôi tin rằng các nước Đồng minh đã công nhận những nguyên tắc dân tộc bình đẳng ở các Hội nghị Têhêrăng và Cựu Kim Sơn, quyết không thể không công nhận quyền độc lập của dân Việt Nam.\n",
        "\n",
        "Một dân tộc đã gan góc chống ách nô lệ của Pháp hơn 80 năm nay, một dân tộc đã gan góc đứng về phe Đồng Minh chống phát xít mấy năm nay, dân tộc đó phải được tự do! Dân tộc đó phải được độc lập!\n",
        "\n",
        "Vì những lẽ trên, chúng tôi, chính phủ lâm thời của nước Việt Nam Dân chủ Cộng hòa, trịnh trọng tuyên bố với thế giới rằng:\n",
        "\n",
        "Nước Việt Nam có quyền hưởng tự do và độc lập, và sự thật đã thành một nước tự do độc lập. Toàn thể dân tộc Việt Nam quyết đem tất cả tinh thần và lực lượng, tính mạng và của cải để giữ vững quyền tự do, độc lập ấy!\n",
        "\"\"\"\n",
        "words = CORPUS.split()"
      ],
      "execution_count": null,
      "outputs": []
    },
    {
      "cell_type": "code",
      "metadata": {
        "id": "DnnbjuBH8qz0"
      },
      "source": [
        "# Make vocab\n",
        "punc = [',', '.', '\"', '!', ':']\n",
        "for i, word in enumerate(words):\n",
        "    word = word.lower()\n",
        "    if word[-1] in punc:\n",
        "        word = word[:-1]\n",
        "    words[i] = word\n",
        "\n",
        "vocab = set(words)\n",
        "vocab = {word: i for i, word in enumerate(vocab)}"
      ],
      "execution_count": null,
      "outputs": []
    },
    {
      "cell_type": "code",
      "metadata": {
        "colab": {
          "base_uri": "https://localhost:8080/"
        },
        "id": "jlzID53Q-IFG",
        "outputId": "980b26d0-8922-4646-b567-03b696f98918"
      },
      "source": [
        "# Make trigrams\n",
        "CTX_SIZE = 2\n",
        "trigrams = [([words[i], words[i+1]], words[i+2]) for i in range(len(words)-2)]\n",
        "trigrams[:5]"
      ],
      "execution_count": null,
      "outputs": [
        {
          "output_type": "execute_result",
          "data": {
            "text/plain": [
              "[(['\"tất', 'cả'], 'mọi'),\n",
              " (['cả', 'mọi'], 'người'),\n",
              " (['mọi', 'người'], 'đều'),\n",
              " (['người', 'đều'], 'sinh'),\n",
              " (['đều', 'sinh'], 'ra')]"
            ]
          },
          "metadata": {
            "tags": []
          },
          "execution_count": 4
        }
      ]
    },
    {
      "cell_type": "code",
      "metadata": {
        "id": "Q47qlsAeA_H_"
      },
      "source": [
        "# NGramLM\n",
        "class NGramLM(nn.Module):\n",
        "    def __init__(self, vocab_size, embedding_size, context_size=CTX_SIZE):\n",
        "        super().__init__()\n",
        "        self.embedding = nn.Embedding(vocab_size, embedding_size)\n",
        "        self.ln1 = nn.Linear(context_size * embedding_size, 1024)\n",
        "        self.ln2 = nn.Linear(1024, 128)\n",
        "        self.ln3 = nn.Linear(128, vocab_size)\n",
        "    \n",
        "    def forward(self, inputs):\n",
        "        x = self.embedding(inputs).view(1, -1)  # Flatten\n",
        "        x = F.relu(self.ln1(x))\n",
        "        x = F.relu(self.ln2(x))\n",
        "        x = self.ln3(x)\n",
        "        log_probs = F.log_softmax(x, dim=1)     # Use NLL Loss\n",
        "        return log_probs"
      ],
      "execution_count": null,
      "outputs": []
    },
    {
      "cell_type": "code",
      "metadata": {
        "id": "1dfNtCXYGzXK"
      },
      "source": [
        "# Training\n",
        "EMB_SIZE = 10\n",
        "N_EPOCHS = 100\n",
        "\n",
        "device = 'cuda'\n",
        "\n",
        "model = NGramLM(len(vocab), EMB_SIZE).to(device)\n",
        "loss_func = nn.NLLLoss()\n",
        "optimizer = optim.SGD(model.parameters(), lr=0.001)\n",
        "\n",
        "for epoch in range(N_EPOCHS):\n",
        "    for context, target in trigrams:\n",
        "        context_ids = torch.tensor([vocab[w] for w in context], dtype=torch.long).to(device)\n",
        "        target_ids = torch.tensor([vocab[target]], dtype=torch.long).to(device)\n",
        "        model.zero_grad()\n",
        "        log_probs = model(context_ids)\n",
        "        loss = loss_func(log_probs, target_ids)\n",
        "        loss.backward()\n",
        "        optimizer.step()"
      ],
      "execution_count": null,
      "outputs": []
    },
    {
      "cell_type": "code",
      "metadata": {
        "colab": {
          "base_uri": "https://localhost:8080/"
        },
        "id": "JG_84yIBUXCe",
        "outputId": "499bacb3-0eef-40c9-ad54-f8ef915e49f8"
      },
      "source": [
        "import random\n",
        "with torch.no_grad():\n",
        "    context = ['thực', 'dân']\n",
        "    context_ids = torch.tensor([vocab[w] for w in context], dtype=torch.long).to(device)\n",
        "    log_probs = model(context_ids)\n",
        "    predict_id = torch.argmax(log_probs).item()\n",
        "    for word, id in vocab.items():\n",
        "        if id == predict_id:\n",
        "            print(word)"
      ],
      "execution_count": null,
      "outputs": [
        {
          "output_type": "stream",
          "text": [
            "pháp\n"
          ],
          "name": "stdout"
        }
      ]
    },
    {
      "cell_type": "markdown",
      "metadata": {
        "id": "heITVyNygMuj"
      },
      "source": [
        "## Gensim GloVe"
      ]
    },
    {
      "cell_type": "code",
      "metadata": {
        "id": "hefRbeo_gbMg"
      },
      "source": [
        "import gensim.downloader as api"
      ],
      "execution_count": null,
      "outputs": []
    },
    {
      "cell_type": "code",
      "metadata": {
        "id": "ZCQMzptfjM7P"
      },
      "source": [
        "word_vectors = api.load('glove-wiki-gigaword-300')"
      ],
      "execution_count": null,
      "outputs": []
    },
    {
      "cell_type": "code",
      "metadata": {
        "id": "zVsDMJwK6Xfy"
      },
      "source": [
        "word_vectors.most_similar('m')"
      ],
      "execution_count": null,
      "outputs": []
    },
    {
      "cell_type": "code",
      "metadata": {
        "colab": {
          "base_uri": "https://localhost:8080/"
        },
        "id": "WKhfCaHMjcKY",
        "outputId": "90573871-ab05-46c7-fadb-749d98c990f3"
      },
      "source": [
        "word_vectors.most_similar(positive=['england', 'thai'], negative=['english'])"
      ],
      "execution_count": null,
      "outputs": [
        {
          "output_type": "execute_result",
          "data": {
            "text/plain": [
              "[('thailand', 0.6563987135887146),\n",
              " ('bangkok', 0.4632825255393982),\n",
              " ('thaksin', 0.4576551914215088),\n",
              " ('shinawatra', 0.4320570230484009),\n",
              " ('lanka', 0.42634427547454834),\n",
              " ('cambodia', 0.41722750663757324),\n",
              " ('bangladesh', 0.4094852805137634),\n",
              " ('baht', 0.4088425934314728),\n",
              " ('sri', 0.3952707052230835),\n",
              " ('malaysia', 0.3893407881259918)]"
            ]
          },
          "metadata": {
            "tags": []
          },
          "execution_count": 5
        }
      ]
    },
    {
      "cell_type": "markdown",
      "metadata": {
        "id": "9FyVvkHzxQmc"
      },
      "source": [
        "## Gensim FastText"
      ]
    },
    {
      "cell_type": "code",
      "metadata": {
        "colab": {
          "background_save": true
        },
        "id": "5N-zrZU4xaF6"
      },
      "source": [
        "word_vectors = api.load('fasttext-wiki-news-subwords-300')"
      ],
      "execution_count": null,
      "outputs": []
    },
    {
      "cell_type": "code",
      "metadata": {
        "id": "wBgUfzd9xxPM",
        "colab": {
          "base_uri": "https://localhost:8080/"
        },
        "outputId": "8577dd54-f330-4831-a89d-96593defba83"
      },
      "source": [
        "word_vectors.most_similar(positive=['england', 'thai'], negative=['english'])"
      ],
      "execution_count": null,
      "outputs": [
        {
          "output_type": "execute_result",
          "data": {
            "text/plain": [
              "[('thailand', 0.6936052441596985),\n",
              " ('bangkok', 0.565219521522522),\n",
              " ('devon', 0.558978796005249),\n",
              " ('birmingham', 0.5563335418701172),\n",
              " ('thais', 0.5534615516662598),\n",
              " ('scotland', 0.547368586063385),\n",
              " ('essex', 0.5421907901763916),\n",
              " ('nottingham', 0.5387527942657471),\n",
              " ('sussex', 0.5288569927215576),\n",
              " ('cornwall', 0.5285815000534058)]"
            ]
          },
          "metadata": {
            "tags": []
          },
          "execution_count": 3
        }
      ]
    },
    {
      "cell_type": "markdown",
      "metadata": {
        "id": "M-5ySPHjuoqq"
      },
      "source": [
        "## BPEmb"
      ]
    },
    {
      "cell_type": "code",
      "metadata": {
        "id": "u-URiZX4un3c"
      },
      "source": [
        "!pip install bpemb\n",
        "from bpemb import BPEmb"
      ],
      "execution_count": null,
      "outputs": []
    },
    {
      "cell_type": "code",
      "metadata": {
        "id": "b8YKHFMOvFKw"
      },
      "source": [
        "bpe_vi = BPEmb(lang='vi')"
      ],
      "execution_count": null,
      "outputs": []
    },
    {
      "cell_type": "code",
      "metadata": {
        "colab": {
          "base_uri": "https://localhost:8080/"
        },
        "id": "xeh-GjHvvSUl",
        "outputId": "1ac37f26-227e-43ff-b4ee-8281e49f7945"
      },
      "source": [
        "bpe_vi.most_similar(\"mẹ\")"
      ],
      "execution_count": null,
      "outputs": [
        {
          "output_type": "execute_result",
          "data": {
            "text/plain": [
              "[('▁mẹ', 0.6003478765487671),\n",
              " ('▁dâu', 0.5390008687973022),\n",
              " ('bà', 0.5369099974632263),\n",
              " ('▁chồng', 0.5345935225486755),\n",
              " ('▁gái', 0.523753821849823),\n",
              " ('▁vợ', 0.5184223055839539),\n",
              " ('vì', 0.5104252099990845),\n",
              " (\"''...\", 0.5004419684410095),\n",
              " ('▁anna', 0.4979190230369568),\n",
              " ('▁cha', 0.495200514793396)]"
            ]
          },
          "metadata": {
            "tags": []
          },
          "execution_count": 33
        }
      ]
    }
  ]
}