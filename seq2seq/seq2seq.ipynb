{
  "nbformat": 4,
  "nbformat_minor": 0,
  "metadata": {
    "colab": {
      "name": "seq2seq.ipynb",
      "provenance": [],
      "collapsed_sections": []
    },
    "kernelspec": {
      "name": "python3",
      "display_name": "Python 3"
    },
    "accelerator": "GPU"
  },
  "cells": [
    {
      "cell_type": "markdown",
      "metadata": {
        "id": "rlKNUMdevLKx"
      },
      "source": [
        "# Implement Seq2Seq from scratch"
      ]
    },
    {
      "cell_type": "code",
      "metadata": {
        "id": "CctiDb0bvWoK"
      },
      "source": [
        "import torch.nn as nn\n",
        "import torch"
      ],
      "execution_count": null,
      "outputs": []
    },
    {
      "cell_type": "code",
      "metadata": {
        "id": "cIIr1OxLkMpp"
      },
      "source": [
        "class Encoder(nn.Module):\n",
        "    def __init__(self, emb_size=300, hidden_size=128, bidirectional=True):\n",
        "        super().__init__()\n",
        "        self.hidden_size = hidden_size / 2 if bidirectional == True else hidden_size\n",
        "        self.gru = nn.GRU(emb_size, self.hidden_size)\n",
        "    \n",
        "    def forward(self, input, hidden):\n",
        "        output, hidden = self.gru(input, hidden)\n",
        "        return hidden"
      ],
      "execution_count": null,
      "outputs": []
    },
    {
      "cell_type": "code",
      "metadata": {
        "id": "TaFHX-vxyYby"
      },
      "source": [
        "class Decoder(nn.Module):\n",
        "    def __init__(self, hidden_size=128, emb_size=300):\n",
        "        super().__init__()\n",
        "        self.gru = nn.GRU(emb_size, hidden_size)\n",
        "        self.fc = nn.Linear(hidden_size, emb_size)\n",
        "    \n",
        "    def forward(self, input, hidden):\n",
        "        output, hidden = self.gru(input, hidden)\n",
        "        output = self.fc(output)\n",
        "        return output"
      ],
      "execution_count": null,
      "outputs": []
    },
    {
      "cell_type": "code",
      "metadata": {
        "id": "-KgLASBw4V_A"
      },
      "source": [
        "class Seq2Seq(nn.Module):\n",
        "    def __init__(self, w2v_model_name='fasttext-wiki-news-subwords-300'):\n",
        "        super().__init__()\n",
        "        self.w2v = api.load(w2v_model_name)\n",
        "        self.encoder = Encoder()\n",
        "        self.decoder = Decoder()\n",
        "\n",
        "    def forward(self, inputs, targets):\n",
        "        x = self.encoder()"
      ],
      "execution_count": null,
      "outputs": []
    }
  ]
}